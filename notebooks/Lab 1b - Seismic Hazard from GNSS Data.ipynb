{
 "cells": [
  {
   "cell_type": "markdown",
   "metadata": {},
   "source": [
    "# Lab 1b - GNSS for Tectonic Deformation and Hazard\n",
    "\n",
    "In this lab we will consider what Global Navigational Satellite Systems (GNSS) data tell us about earthquake hazard on the central San Andreas Fault. In particular, we will consider the difference in the geodetic signatures of locked and creeping faults. \n",
    "\n",
    "## An important lesson from a major catastrophe\n",
    "In 1906 the great San Fransisco earthquake occurred and resulted in the destruction of much of San Fransisco (although the largest amount of damage was actually due to the fires that burned as a result of broken gas lines and no water to put them out because of broken water lines). I encourage you to take a look at the <a>href=\"https://en.wikipedia.org/wiki/1906_San_Francisco_earthquake\" >Wikipedia</a> description of the event, which describes in detail the aftermath of the event itself and the national and international repercussions in the economy and finance industry of the time. Should such an earthquake happen again today, there would likely be some improvement in damaged buildings, but many of the cities' older buildings and sectors, including gas lines, are still vulnerable. \n",
    "\n",
    "The size of the earthquake is uncertain due to the lack of good observations from that time; however, scientists at the United States Geological Survey (USGS) have <a> href=\"https://earthquake.usgs.gov/earthquakes/events/1906calif/18april/magnitude.php\" >estimated that the earthquake was an MW 7.7 or 7.9</a>. \"MW\" stands for \"moment magnitude,\" and is different from the \"Richter magnitude.\" The Richter magnitude scale is no longer used much by scientists because it describes the intensity of shaking, rather than the actual size of the earthquake, and so it can vary a bit depending on site conditions (e.g., soft soils shake harder than bedrock). \n",
    "\n",
    "However, the <a>href=\"https://earthquake.usgs.gov/earthquakes/events/1906calif/18april/revolution.php\" >lessons learned from the 1906 earthquake</a> are still applied today. The <a>href=\"https://earthquake.usgs.gov/earthquakes/events/1906calif/18april/reid.php\" >**theory of elastic rebound**</a>, which we will use in this lab, is a fundamental idea about how earthquakes work. Why is the theory important? Because it allows us to make predictions of how much slip will happen in the next earthquake. By measuring how much of a fault is \"locked,\" we can turn that around to say how large the next earthquake is likely to be. We will do this in this lab.\n",
    "\n",
    "## The San Andreas Fault\n",
    "The San Andreas Fault (abbreviated SAF) is the largest strike-slip fault system in the United States, and produced both the MW 7.7 San Fransisco earthquake as well as the MW 7.9 Fort Tejon earthquake that occurred in southern California. We will be looking at data around the SAF at the northern end of the Fort Tejon earthquake rupture, near Parkfield, CA. North of this area the SAF is creeping at the surface. "
   ]
  },
  {
   "cell_type": "markdown",
   "metadata": {},
   "source": [
    "## GNSS time-series\n",
    "Processing raw GNSS data for tectonic studies is a highly technical skill that we will not be able to address in this course. Instead, we will access publicly-available data that has already been processed up to the time-series level. This time-series data contains one position point in three dimensions for a given station on a daily frequency. The data is available from several different sources, including the <a> href=\"http://geodesy.unr.edu/NGLStationPages/gpsnetmap/GPSNetMap_MAG.html\" >University of Nevada at Reno</a> and <a> href=\"https://www.unavco.org/data/gps-gnss/data-access-methods/data-access-methods.html\" >UNAVCO</a>; the latter has data from several different sources. Using data already pre-processed will save a lot of time for this lab, but be aware that each processing agency has its own set of stations and quirks that must be investigated for real research-level work."
   ]
  },
  {
   "cell_type": "code",
   "execution_count": 1,
   "metadata": {},
   "outputs": [
    {
     "ename": "ModuleNotFoundError",
     "evalue": "No module named 'pandas'",
     "output_type": "error",
     "traceback": [
      "\u001b[0;31m---------------------------------------------------------------------------\u001b[0m",
      "\u001b[0;31mModuleNotFoundError\u001b[0m                       Traceback (most recent call last)",
      "\u001b[0;32m<ipython-input-1-a3bc64dfbcf7>\u001b[0m in \u001b[0;36m<module>\u001b[0;34m\u001b[0m\n\u001b[1;32m      1\u001b[0m \u001b[0;31m# First import the libraries and set up some helpful functions\u001b[0m\u001b[0;34m\u001b[0m\u001b[0;34m\u001b[0m\u001b[0;34m\u001b[0m\u001b[0m\n\u001b[0;32m----> 2\u001b[0;31m \u001b[0;32mimport\u001b[0m \u001b[0mpandas\u001b[0m \u001b[0;32mas\u001b[0m \u001b[0mpd\u001b[0m\u001b[0;34m\u001b[0m\u001b[0;34m\u001b[0m\u001b[0m\n\u001b[0m\u001b[1;32m      3\u001b[0m \u001b[0;32mimport\u001b[0m \u001b[0mmatplotlib\u001b[0m\u001b[0;34m.\u001b[0m\u001b[0mpyplot\u001b[0m \u001b[0;32mas\u001b[0m \u001b[0mplt\u001b[0m\u001b[0;34m\u001b[0m\u001b[0;34m\u001b[0m\u001b[0m\n\u001b[1;32m      4\u001b[0m \u001b[0;32mimport\u001b[0m \u001b[0mnumpy\u001b[0m \u001b[0;32mas\u001b[0m \u001b[0mnp\u001b[0m\u001b[0;34m\u001b[0m\u001b[0;34m\u001b[0m\u001b[0m\n",
      "\u001b[0;31mModuleNotFoundError\u001b[0m: No module named 'pandas'"
     ]
    }
   ],
   "source": [
    "# First import the libraries and set up some helpful functions\n",
    "import pandas as pd\n",
    "import matplotlib.pyplot as plt\n",
    "import numpy as np"
   ]
  },
  {
   "cell_type": "code",
   "execution_count": null,
   "metadata": {},
   "outputs": [],
   "source": [
    "# Load some GNSS velocities \n",
    "gnss_vels_Parkfield = pd.read_csv('../data/GNSS_Vels.csv')\n",
    "gnss_vels_Parkfield.head()"
   ]
  },
  {
   "cell_type": "code",
   "execution_count": null,
   "metadata": {},
   "outputs": [],
   "source": [
    "# Plot the data\n",
    "plt.quiver(gnss_vels_Parkfield['Lon'], gnss_vels_Parkfield['Lat'], gnss_vels_Parkfield['Veast'], gnss_vels_Parkfield['Vnorth'])\n",
    "plt.show()"
   ]
  }
 ],
 "metadata": {
  "kernelspec": {
   "display_name": "Python 3",
   "language": "python",
   "name": "python3"
  },
  "language_info": {
   "codemirror_mode": {
    "name": "ipython",
    "version": 3
   },
   "file_extension": ".py",
   "mimetype": "text/x-python",
   "name": "python",
   "nbconvert_exporter": "python",
   "pygments_lexer": "ipython3",
   "version": "3.8.2"
  }
 },
 "nbformat": 4,
 "nbformat_minor": 4
}
