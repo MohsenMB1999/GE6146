{
 "cells": [
  {
   "cell_type": "markdown",
   "metadata": {},
   "source": [
    "# Gravity signals from GRACE for measuring ice mass loss\n",
    "In this lab we are going to analyze some data from the GRACE (Gravity Recovery and Climate Experiment) satellite mission and use it to estimate (1) ice mass loss from Greenland, (2) ice mass loss from Antarctica, and (3) the change in global sea level that could arise if all of the ice mass loss is due to ice melting into liquid water. You will access data from the Grace mission, import it into your Jupyter notebook on Google Colab, and plot and analyze the results. \n",
    "\n",
    "## A couple important points to make: \n",
    "- When you make changes this notebook, those changes are not saved in Github or anywhere else, so you need to download the notebook to save your changes. \n",
    "- You can re-upload this notebook instead of the original notebook from Github if you want to stop working and come back at another time. Just \"Download .ipynb\" and save to your desired location on your computer. Alternatively, you can save the notebook to your Google Drive and load it directly from there using Google Colab's interface with Google Drive (File - Open Notebook - select \"Google Drive\" and give Colab access to your Google Drive). You can also click on the \"Copy to Drive\" button at the top of the notebook.\n",
    "- You will need to put the GRACE data you obtain into a place that Google Colab can find it. You can do this by either directly uploading from your computer or adding your Google drive to your Colab session. Examples of how to do both are provided below.\n",
    "- **When you are finished with the notebook, make sure all the cells have run (so that all the plots show up, etc.) and then download your notebook and upload it to Canvas under the File Upload option for Homework 2.**"
   ]
  },
  {
   "cell_type": "code",
   "execution_count": 10,
   "metadata": {},
   "outputs": [],
   "source": [
    "import time\n",
    "\n",
    "import datetime as dt\n",
    "import numpy as np\n",
    "import matplotlib.pyplot as plt\n",
    "import pandas as pd"
   ]
  },
  {
   "cell_type": "markdown",
   "metadata": {},
   "source": [
    "## Get the data\n",
    "We will obtain the mass anomaly data from the __[\"Mascon Visualization Tool\"](https://ccar.colorado.edu/grace/index.html)__ available from the __[Colorado Center for Astrodynamics Research](https://www.colorado.edu/ccar/)__. Navigate to the webpage and spend a few minutes looking at the __[FAQ](https://ccar.colorado.edu/grace/faq.html)__ and __[About](https://ccar.colorado.edu/grace/about.html)__ pages. Then navigate to the main page. For this excercise, you will need to download data for both Greenland and Antarctica using both the JPL and GSFZ solutions. Navigate to each type of solution (JPL/GSFZ), then click on the region of interest (Greenland/Antarctica). Select \"Gt\" (gigatons) under \"Units\" and make sure \"Deseason\" is \"off\". Download the data (you will need to do this for each dataset, a total of four times) and save to a location where you can upload it to this notebook on Google Colab (see below)."
   ]
  },
  {
   "cell_type": "markdown",
   "metadata": {},
   "source": [
    "**Note:** Remember that GRACE is only sensitive to wavelengths greater than around 300 km. "
   ]
  },
  {
   "cell_type": "markdown",
   "metadata": {},
   "source": [
    "**Note:** A Glacial Isostatic Adjustment (GIA) estimate has already been removed from the data (see __[this website](https://ccar.colorado.edu/grace/about.html)__)"
   ]
  },
  {
   "cell_type": "markdown",
   "metadata": {},
   "source": [
    "### Another option for data access\n",
    "__[The Grace Plotter](http://thegraceplotter.com/)__ is another website where you can access GRACE data. You can explore using this website on your own if you want. The data is only available as water equivalent, but you can still look at overall trends and compare regions. Pick a point and plot the data."
   ]
  },
  {
   "cell_type": "markdown",
   "metadata": {},
   "source": [
    "## Look at individual mascons\n",
    "Pick one of the solutions and navigate to Greenland again. This time instead of selecting a region, select \"trend\" in the selection box (if you click a region first, click the minimize button in the corner to get back to the selection box). You can select individual mascons in Greenland. Note that some mascons have positive trends and some are negative. Double-click the cell below and write your observations. What patterns are visible (if any)? What do you think they mean? Do some searching on the website as well as the broader web to see if you can find out the meaning of this interesting pattern. "
   ]
  },
  {
   "cell_type": "markdown",
   "metadata": {},
   "source": [
    "### ***Write your response here***"
   ]
  },
  {
   "cell_type": "markdown",
   "metadata": {},
   "source": [
    "## Uploading data files\n",
    "Depending on whether you are uploading directly or usingi Google Drive, uncomment and run the code below to access your data files downloaded in the previous step. \n",
    "1. If you are doing a direct upload, uncommenting the first option and running the cell will raise a prompt that you can use to select and upload the files.\n",
    "2. If using Google Drive, uncomment the second option and run. "
   ]
  },
  {
   "cell_type": "code",
   "execution_count": 1,
   "metadata": {},
   "outputs": [],
   "source": [
    "### Upload your data files ###\n",
    "# from google.colab import files\n",
    "# uploaded = files.upload()\n",
    "\n",
    "\n",
    "### Use Google Drive ###\n",
    "# from google.colab import drive\n",
    "# drive.mount('/gdrive')"
   ]
  },
  {
   "cell_type": "code",
   "execution_count": 12,
   "metadata": {},
   "outputs": [
    {
     "data": {
      "text/html": [
       "<div>\n",
       "<style scoped>\n",
       "    .dataframe tbody tr th:only-of-type {\n",
       "        vertical-align: middle;\n",
       "    }\n",
       "\n",
       "    .dataframe tbody tr th {\n",
       "        vertical-align: top;\n",
       "    }\n",
       "\n",
       "    .dataframe thead th {\n",
       "        text-align: right;\n",
       "    }\n",
       "</style>\n",
       "<table border=\"1\" class=\"dataframe\">\n",
       "  <thead>\n",
       "    <tr style=\"text-align: right;\">\n",
       "      <th></th>\n",
       "      <th>year</th>\n",
       "      <th>Gt</th>\n",
       "    </tr>\n",
       "  </thead>\n",
       "  <tbody>\n",
       "    <tr>\n",
       "      <th>0</th>\n",
       "      <td>2002.295</td>\n",
       "      <td>1138.134</td>\n",
       "    </tr>\n",
       "    <tr>\n",
       "      <th>1</th>\n",
       "      <td>2002.358</td>\n",
       "      <td>1178.438</td>\n",
       "    </tr>\n",
       "    <tr>\n",
       "      <th>2</th>\n",
       "      <td>2002.626</td>\n",
       "      <td>864.479</td>\n",
       "    </tr>\n",
       "    <tr>\n",
       "      <th>3</th>\n",
       "      <td>2002.709</td>\n",
       "      <td>790.367</td>\n",
       "    </tr>\n",
       "    <tr>\n",
       "      <th>4</th>\n",
       "      <td>2002.793</td>\n",
       "      <td>837.638</td>\n",
       "    </tr>\n",
       "  </tbody>\n",
       "</table>\n",
       "</div>"
      ],
      "text/plain": [
       "       year        Gt\n",
       "0  2002.295  1138.134\n",
       "1  2002.358  1178.438\n",
       "2  2002.626   864.479\n",
       "3  2002.709   790.367\n",
       "4  2002.793   837.638"
      ]
     },
     "execution_count": 12,
     "metadata": {},
     "output_type": "execute_result"
    }
   ],
   "source": [
    "# With either option, you can then import the data using pandas, for example: \n",
    "#import pandas as pd\n",
    "Nskip = 9 # change to number of rows to skip\n",
    "filename = \"../data/GSFC_region0100_GreenlandIceSheet.csv\" # need to include /gdrive/ in the filename if importing from google drive\n",
    "df = pd.read_csv(filename, skiprows=Nskip) # you will need to skip the header rows. Look at the file on your computer to see how many rows you need to skip\n",
    "df.head()"
   ]
  },
  {
   "cell_type": "markdown",
   "metadata": {},
   "source": [
    "## Plotting the data\n",
    "Create plots showing the data from Greenland and Antarctica. Plot the mass (Gt/yr) versus time, and include both data sources (i.e., JPL and GSFZ) on the same plot. Make two different plots for Greenland and Antarctica, but plot them using the same y-axis to facilitate direct comparison. \n",
    "\n",
    "**Note:** The dates given in each dataset are reported differently; some are \"days since ...\" and some are absolute dates. You will need to convert all dates to absolute dates. To do this, use the \"datetime\" module in Python and the function defined in the cell below. For the dates given as \"days since ...\", first convert them to Python datetimes (look at the documentation for __[strftime](https://docs.python.org/3/library/datetime.html#datetime.datetime.strptime)__ and __[timedelta](https://docs.python.org/3/library/datetime.html#timedelta-objects)__). Once you have datetimes you can create a new column in the dataframe with the decimal years."
   ]
  },
  {
   "cell_type": "markdown",
   "metadata": {},
   "source": [
    "<div class=\"alert alert-block alert-info\">\n",
    "<b>Tip:</b> Make sure to import the libraries you need. For example, \"import matplotlib.pyplot as plt\" for plots, and \"import numpy as np\" for math operations using numpy.\n",
    "</div>"
   ]
  },
  {
   "cell_type": "code",
   "execution_count": 7,
   "metadata": {},
   "outputs": [],
   "source": [
    "# You don't need to change this cell, but make sure to run it so you have the functions defined!\n",
    "# Functions needed\n",
    "def dt2fracYear(date):\n",
    "    '''\n",
    "    Convert Python datetimes to fractional (decimel) years\n",
    "    \n",
    "    Parameters\n",
    "    ----------\n",
    "    date - Python datetime (e.g. datetime.datetime(2018,1,1))\n",
    "    \n",
    "    Returns\n",
    "    -------\n",
    "    Fractional datetime, i.e.: 2018.08\n",
    "    \n",
    "    Example:\n",
    "    >>> d = datetime.datetime(2018,2,1)\n",
    "    >>> d_frac = dt2fracYear(d)\n",
    "    >>> print(d_frac) # prints 2018.0849315068492\n",
    "    '''\n",
    "    \n",
    "    def sinceEpoch(date): # returns seconds since epoch\n",
    "        return time.mktime(date.timetuple())\n",
    "    s = sinceEpoch\n",
    "\n",
    "    # check that the object is a datetime\n",
    "    try:\n",
    "        year = date.year\n",
    "    except AttributeError:\n",
    "        date = numpyDT64ToDatetime(date)\n",
    "        year = date.year\n",
    "\n",
    "    startOfThisYear = dt.datetime(year=year, month=1, day=1)\n",
    "    startOfNextYear = dt.datetime(year=year+1, month=1, day=1)\n",
    "\n",
    "    yearElapsed = s(date) - s(startOfThisYear)\n",
    "    yearDuration = s(startOfNextYear) - s(startOfThisYear)\n",
    "    fraction = yearElapsed/yearDuration\n",
    "    date_frac = date.year + fraction\n",
    "\n",
    "    return date_frac\n",
    "\n",
    "def numpyDT64ToDatetime(dt64):\n",
    "    '''\n",
    "    Convert a numpy datetime64 object to a python datetime object\n",
    "    (Only gets called inside dt2fracYear, you do not need to call this separately)\n",
    "    '''\n",
    "    unix_epoch = np.datetime64(0, 's')\n",
    "    one_second = np.timedelta64(1, 's')\n",
    "    seconds_since_epoch = (dt64 - unix_epoch) / one_second\n",
    "    return dt.datetime.utcfromtimestamp(seconds_since_epoch)"
   ]
  },
  {
   "cell_type": "code",
   "execution_count": 31,
   "metadata": {},
   "outputs": [],
   "source": [
    "# Some examples of how to convert to Python datetimes assuming that \"df\" is the name of your dataframe containing date information\n",
    "# fmt = '%Y-%m-%d' for 2019-01-01\n",
    "# fmt = '%j' for day of year\n",
    "# df['Datetime'] = df['Date'].apply(lambda x: dt.datetime.strftime(x, fmt)) #<-- Use this if \"Date\" is a string \n",
    "# You can also add dates: df['Datetime'] = df['Days since 1900'].apply(lambda x: dt.datetime(1900,1,1) + dt.timedelta(days=x)) # <-- Use this if \"Days since 1900\" is an integer number of days\n",
    "# Etc."
   ]
  },
  {
   "cell_type": "markdown",
   "metadata": {},
   "source": [
    "Once you've created columns or variables containing fractional dates, you can use those to create a time-series plot of mass versus time. This should in general look like \n",
    "```\n",
    "plt.plot(time, mass, label='JPL')\n",
    "```\n",
    "You will want to include both data sources on each plot with a legend, title showing which area is being plotted, etc. "
   ]
  },
  {
   "cell_type": "markdown",
   "metadata": {},
   "source": [
    "<div class=\"alert alert-block alert-info\">\n",
    "<b>Tip:</b> Make sure to include axis labels, legends, plot titles, etc. as needed for someone else to understand your plot!\n",
    "</div>"
   ]
  },
  {
   "cell_type": "code",
   "execution_count": 14,
   "metadata": {},
   "outputs": [
    {
     "data": {
      "text/plain": [
       "<matplotlib.collections.PathCollection at 0x16cc87f70>"
      ]
     },
     "execution_count": 14,
     "metadata": {},
     "output_type": "execute_result"
    },
    {
     "data": {
      "image/png": "[encoded data removed]",
      "text/plain": [
       "<Figure size 640x480 with 1 Axes>"
      ]
     },
     "metadata": {},
     "output_type": "display_data"
    }
   ],
   "source": [
    "# Your code for the Greenland plot here\n",
    "plt.scatter(df['year'], df['Gt'], marker='o')"
   ]
  },
  {
   "cell_type": "code",
   "execution_count": null,
   "metadata": {},
   "outputs": [],
   "source": [
    "# Your code for the Antartica plot here"
   ]
  },
  {
   "cell_type": "markdown",
   "metadata": {},
   "source": [
    "## Questions\n",
    "Write Python code in the following cells to answer the following questions:\n",
    "1. Based on the data plotted above:\n",
    "    a. what is the total ice mass change for each region (Greenland/Antartica)?\n",
    "    b. which ice sheet has lost the greater mass? \n",
    "2. Based on the data plotted above:\n",
    "    a. what is the mass loss rate for each region in Gt/yr?\n",
    "    b. which ice sheet has a greater mass loss rate?\n",
    "3. What is the total mass loss for Greenland over the time period 2003-01-01 to 2016-01-01 in Gt? \n",
    "4. What is the total mass loss for Antarctica over the time period 2003-01-01 to 2016-01-01 in Gt? "
   ]
  },
  {
   "cell_type": "code",
   "execution_count": 8,
   "metadata": {},
   "outputs": [],
   "source": [
    "# code for question 1a"
   ]
  },
  {
   "cell_type": "code",
   "execution_count": 9,
   "metadata": {},
   "outputs": [],
   "source": [
    "# code for question 1b"
   ]
  },
  {
   "cell_type": "code",
   "execution_count": 10,
   "metadata": {},
   "outputs": [],
   "source": [
    "# code for question 2a"
   ]
  },
  {
   "cell_type": "code",
   "execution_count": 11,
   "metadata": {},
   "outputs": [],
   "source": [
    "# code for question 2b"
   ]
  },
  {
   "cell_type": "code",
   "execution_count": 12,
   "metadata": {},
   "outputs": [],
   "source": [
    "# code for question 3"
   ]
  },
  {
   "cell_type": "code",
   "execution_count": 13,
   "metadata": {},
   "outputs": [],
   "source": [
    "# code for question 4"
   ]
  },
  {
   "cell_type": "markdown",
   "metadata": {},
   "source": [
    "# Impact of melting ice on sea level\n",
    "The ice sheet mass loss trends recorded by GRACE for Antarctica and Greenland indicate that land-based ice has melted, and this mass is being added to the oceans. To convert a mass of ice into the global sea-level equivalent (SLE) rise requires knowing the following: \n",
    "1. The area covered by oceans on Earth= 3.618 x 10^8 km^2\n",
    "2. The volume of water equivalent to ice mass lost to volume of liquid water: V = mass/density (density of water is 1000 kg/m^3)\n",
    "3. The total change in global ocean levels is obtained by dividing the total volume gained by the total area of the oceans. \n",
    "\n",
    "Work out the total sea level change equivalent separately for Greenland, Antarctica, and the two combined. Do this for each of the solutions (JPL/GSFZ). \n",
    "\n",
    "Print the results of each question to the screen output"
   ]
  },
  {
   "cell_type": "code",
   "execution_count": 15,
   "metadata": {},
   "outputs": [],
   "source": [
    "# Your code here\n",
    "densityWater = 1000 # kg/m^3\n",
    "oceansAreaKM2 = 3.618e8 # km^2\n",
    "\n",
    "# convert oceansAreaKM2 to area in meters squared\n",
    "ocenasAreaM2 = 0 # replace \"0\" with your code\n",
    "\n",
    "# Your results for total mass change from questions 1-4 above\n",
    "# Make sure to convert Gigatons to kg! \n",
    "\n",
    "# Total liquid water volume change\n",
    "\n",
    "# Total height change of the global oceans if all water goes into the ocean"
   ]
  },
  {
   "cell_type": "markdown",
   "metadata": {},
   "source": [
    "Now create new time-series plots showing the sea-level change through time. Do this for the Greenland and Antarctica datasets and for each solution (JPL/GSFZ). You should have two plots, with the two solutions posted on each plot. \n",
    "\n",
    "To solve this problem, you can add new columns to each dataframe you generated when you imported the data. For example: "
   ]
  },
  {
   "cell_type": "code",
   "execution_count": null,
   "metadata": {},
   "outputs": [],
   "source": [
    "# Add a \n",
    "df['MassLoss_kg'] = df['Gt']*1e12\n",
    "df['VolumeLiquidWater'] = df['MassLoss_kg']/densityWater\n",
    "df['SeaLevelChange_m'] = df['VolumeLiquidWater']/oceansAreaM2 # Watch your units!!\n",
    "df['SeaLevelChange_mm'] = df['SeaLevelChange_m']*1000"
   ]
  },
  {
   "cell_type": "markdown",
   "metadata": {},
   "source": [
    "You will need to do this for each dataset, then plot the results. Show your plots below!"
   ]
  },
  {
   "cell_type": "code",
   "execution_count": 16,
   "metadata": {},
   "outputs": [],
   "source": [
    "# your code here for the Greenland plot"
   ]
  },
  {
   "cell_type": "code",
   "execution_count": 17,
   "metadata": {},
   "outputs": [],
   "source": [
    "# your code here for the Antarctica plot"
   ]
  },
  {
   "cell_type": "markdown",
   "metadata": {},
   "source": [
    "## Wrapping up\n",
    "In this homework we looked at sea level change that is possible given ice mass loss through melting in Greenland and Antarctica. Real sea level change is much more complicated and is affected by land water mass change and thermal expansion and contraction of the oceans due to temperature changes, among other sources. While we were not able to explore these in this lab, in your final project you could choose to look at the impact of all these sources of sea level change. "
   ]
  },
  {
   "cell_type": "code",
   "execution_count": null,
   "metadata": {},
   "outputs": [],
   "source": []
  }
 ],
 "metadata": {
  "kernelspec": {
   "display_name": "Python 3 (ipykernel)",
   "language": "python",
   "name": "python3"
  },
  "language_info": {
   "codemirror_mode": {
    "name": "ipython",
    "version": 3
   },
   "file_extension": ".py",
   "mimetype": "text/x-python",
   "name": "python",
   "nbconvert_exporter": "python",
   "pygments_lexer": "ipython3",
   "version": "3.10.8"
  }
 },
 "nbformat": 4,
 "nbformat_minor": 4
}
