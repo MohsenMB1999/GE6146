{
 "cells": [
  {
   "cell_type": "markdown",
   "metadata": {},
   "source": [
    "# Introduction to Python Imports and Functions\n",
    "\n",
    "In this lab excercise you will gain some experience with Python functions. These will be the bread-and-butter of Python programming that we will do in this class, so make sure you complete each of the assignments carefully.\n"
   ]
  },
  {
   "cell_type": "code",
   "execution_count": 73,
   "metadata": {},
   "outputs": [
    {
     "name": "stdout",
     "output_type": "stream",
     "text": [
      "This is a display function\n"
     ]
    }
   ],
   "source": [
    "# Python comes with some built-in functions\n",
    "print('This is a display function')"
   ]
  },
  {
   "cell_type": "code",
   "execution_count": 74,
   "metadata": {},
   "outputs": [
    {
     "data": {
      "text/plain": [
       "int"
      ]
     },
     "execution_count": 74,
     "metadata": {},
     "output_type": "execute_result"
    }
   ],
   "source": [
    "# type gives the data type of its argument\n",
    "type(5)"
   ]
  },
  {
   "cell_type": "code",
   "execution_count": 75,
   "metadata": {},
   "outputs": [
    {
     "data": {
      "text/plain": [
       "str"
      ]
     },
     "execution_count": 75,
     "metadata": {},
     "output_type": "execute_result"
    }
   ],
   "source": [
    "type('a sentence is a string')"
   ]
  },
  {
   "cell_type": "code",
   "execution_count": 76,
   "metadata": {},
   "outputs": [
    {
     "name": "stdout",
     "output_type": "stream",
     "text": [
      "<class 'int'>\n"
     ]
    }
   ],
   "source": [
    "# Functions can be nested \n",
    "print(type(5)) "
   ]
  },
  {
   "cell_type": "code",
   "execution_count": 77,
   "metadata": {},
   "outputs": [
    {
     "name": "stdout",
     "output_type": "stream",
     "text": [
      "{}\n"
     ]
    }
   ],
   "source": [
    "# datatypes have associated functions\n",
    "d = dict()\n",
    "print(d)"
   ]
  },
  {
   "cell_type": "code",
   "execution_count": 78,
   "metadata": {},
   "outputs": [
    {
     "data": {
      "text/plain": [
       "3"
      ]
     },
     "execution_count": 78,
     "metadata": {},
     "output_type": "execute_result"
    }
   ],
   "source": [
    "# len gives its length\n",
    "aList = [1,2, 3]\n",
    "len(aList)"
   ]
  },
  {
   "cell_type": "code",
   "execution_count": 79,
   "metadata": {},
   "outputs": [
    {
     "data": {
      "text/plain": [
       "8"
      ]
     },
     "execution_count": 79,
     "metadata": {},
     "output_type": "execute_result"
    }
   ],
   "source": [
    "# strings also have length = number of characters\n",
    "len(\"a string\")"
   ]
  },
  {
   "cell_type": "code",
   "execution_count": 80,
   "metadata": {},
   "outputs": [
    {
     "data": {
      "text/plain": [
       "'/Users/jlmd9g/Dropbox/Jeremys_stuff/Teaching/GE6146_2020_Summer/Labs/GE6371/notebooks'"
      ]
     },
     "execution_count": 80,
     "metadata": {},
     "output_type": "execute_result"
    }
   ],
   "source": [
    "'''\n",
    "Most functions in Python are a part of libraries. These libraries can be imported using \"import <libraryname>\". \n",
    "Some libraries are included with Python by default, others must be installed.\n",
    "'''\n",
    "import os\n",
    "os.getcwd()"
   ]
  },
  {
   "cell_type": "code",
   "execution_count": 3,
   "metadata": {},
   "outputs": [
    {
     "data": {
      "text/plain": [
       "[<matplotlib.lines.Line2D at 0x7feddba7c4d0>]"
      ]
     },
     "execution_count": 3,
     "metadata": {},
     "output_type": "execute_result"
    }
   ],
   "source": [
    "# Numpy is the Python math library\n",
    "import numpy as np # you can rename a library to make it easier to call\n",
    "import matplotlib.pyplot as plt # the standard plotting library\n",
    "\n",
    "x = np.linspace(-np.pi/2, np.pi/2, 100)\n",
    "y = np.sin(2*x)\n",
    "plt.plot(x, y)"
   ]
  },
  {
   "cell_type": "code",
   "execution_count": 82,
   "metadata": {},
   "outputs": [],
   "source": [
    "# We can also define our own functions. This will be important in this class\n",
    "def simpleSum(a, b, c):\n",
    "    return a + b + c"
   ]
  },
  {
   "cell_type": "code",
   "execution_count": 83,
   "metadata": {},
   "outputs": [
    {
     "data": {
      "text/plain": [
       "6"
      ]
     },
     "execution_count": 83,
     "metadata": {},
     "output_type": "execute_result"
    }
   ],
   "source": [
    "# Once we have run the cell containing the function, we can call it from any other cell\n",
    "simpleSum(1, 2, 3)"
   ]
  },
  {
   "cell_type": "code",
   "execution_count": 84,
   "metadata": {},
   "outputs": [],
   "source": [
    "# multiple arguments can be passed using *args\n",
    "def betterSum(*args):  # this means that any number of arguments, separated by commas, can be passed\n",
    "    sum = 0\n",
    "    for arg in args:\n",
    "        sum = sum + arg\n",
    "    return sum"
   ]
  },
  {
   "cell_type": "code",
   "execution_count": 85,
   "metadata": {},
   "outputs": [
    {
     "data": {
      "text/plain": [
       "3"
      ]
     },
     "execution_count": 85,
     "metadata": {},
     "output_type": "execute_result"
    }
   ],
   "source": [
    "betterSum(1, 2)"
   ]
  },
  {
   "cell_type": "code",
   "execution_count": 86,
   "metadata": {},
   "outputs": [
    {
     "data": {
      "text/plain": [
       "21"
      ]
     },
     "execution_count": 86,
     "metadata": {},
     "output_type": "execute_result"
    }
   ],
   "source": [
    "betterSum(1,2,3, 4, 5, 6)"
   ]
  },
  {
   "cell_type": "code",
   "execution_count": 87,
   "metadata": {},
   "outputs": [
    {
     "data": {
      "text/plain": [
       "4950"
      ]
     },
     "execution_count": 87,
     "metadata": {},
     "output_type": "execute_result"
    }
   ],
   "source": [
    "betterSum(*np.arange(100)) # Pass a whole array of numbers \n",
    "# what happens when you don't pass the star? try and see! Check the type of the input using type() to help understand"
   ]
  },
  {
   "cell_type": "code",
   "execution_count": 88,
   "metadata": {},
   "outputs": [],
   "source": [
    "# get help with a function\n",
    "# click the 'x' to close the window that opens\n",
    "?print "
   ]
  },
  {
   "cell_type": "code",
   "execution_count": 89,
   "metadata": {},
   "outputs": [],
   "source": [
    "# get help with imported functions the same way\n",
    "?plt.quiver"
   ]
  },
  {
   "cell_type": "code",
   "execution_count": 90,
   "metadata": {},
   "outputs": [],
   "source": [
    "# We want to make a more customized plot\n",
    "def customPlot(x, y, e, n):\n",
    "    import matplotlib.pyplot as plt\n",
    "    plt.plot(x,y)\n",
    "    plt.quiver(x, y, e, n)\n",
    "    plt.xlabel('Easting')\n",
    "    plt.ylabel('Northing')\n",
    "    plt.title('Vector Field')\n",
    "    plt.show()"
   ]
  },
  {
   "cell_type": "code",
   "execution_count": 91,
   "metadata": {},
   "outputs": [],
   "source": [
    "e = np.ones(x.shape)\n",
    "n = y"
   ]
  },
  {
   "cell_type": "code",
   "execution_count": 92,
   "metadata": {},
   "outputs": [
    {
     "data": {
      "image/png": "[encoded data removed]",
      "text/plain": [
       "<Figure size 432x288 with 1 Axes>"
      ]
     },
     "metadata": {
      "needs_background": "light"
     },
     "output_type": "display_data"
    }
   ],
   "source": [
    "customPlot(x, y, e, n)"
   ]
  },
  {
   "cell_type": "code",
   "execution_count": 93,
   "metadata": {},
   "outputs": [],
   "source": [
    "# Try to create a function using Numpy and Matplotlib that takes in a variable x, computes the sqrt of x, and then plots the result\n",
    "x = np.arange(0, 10, 100)"
   ]
  },
  {
   "cell_type": "code",
   "execution_count": 94,
   "metadata": {},
   "outputs": [],
   "source": [
    "# Create your function in this cell, named \"plotSqrt\". \n",
    "# You will need to add the calculations, add input argument(s), and plot\n",
    "def plotSqrt():\n",
    "    import numpy as np\n",
    "    import matplotlib.pyplot as plt"
   ]
  },
  {
   "cell_type": "code",
   "execution_count": 95,
   "metadata": {},
   "outputs": [
    {
     "ename": "TypeError",
     "evalue": "plotSqrt() takes 0 positional arguments but 1 was given",
     "output_type": "error",
     "traceback": [
      "\u001b[0;31m---------------------------------------------------------------------------\u001b[0m",
      "\u001b[0;31mTypeError\u001b[0m                                 Traceback (most recent call last)",
      "\u001b[0;32m<ipython-input-95-97dd48ea2cf9>\u001b[0m in \u001b[0;36m<module>\u001b[0;34m\u001b[0m\n\u001b[1;32m      1\u001b[0m \u001b[0;31m# Now try out your function. If it doesn't work the first time, look at the error message and try again!\u001b[0m\u001b[0;34m\u001b[0m\u001b[0;34m\u001b[0m\u001b[0;34m\u001b[0m\u001b[0m\n\u001b[1;32m      2\u001b[0m \u001b[0;31m# Post a question on Piazza if you get stuck\u001b[0m\u001b[0;34m\u001b[0m\u001b[0;34m\u001b[0m\u001b[0;34m\u001b[0m\u001b[0m\n\u001b[0;32m----> 3\u001b[0;31m \u001b[0mplotSqrt\u001b[0m\u001b[0;34m(\u001b[0m\u001b[0mx\u001b[0m\u001b[0;34m)\u001b[0m\u001b[0;34m\u001b[0m\u001b[0;34m\u001b[0m\u001b[0m\n\u001b[0m",
      "\u001b[0;31mTypeError\u001b[0m: plotSqrt() takes 0 positional arguments but 1 was given"
     ]
    }
   ],
   "source": [
    "# Now try out your function. If it doesn't work the first time, look at the error message and try again! \n",
    "# Post a question on Piazza if you get stuck\n",
    "plotSqrt(x)"
   ]
  },
  {
   "cell_type": "markdown",
   "metadata": {},
   "source": [
    "### Installing packages in Google Colab\n",
    "Google Colab allows you to install Python packages that are available through __[\"pip\"](https://packaging.python.org/tutorials/installing-packages/)__, one Python package manager. By installing other packages, we can make use of new libraries of functions beyond what is available in base python. "
   ]
  },
  {
   "cell_type": "code",
   "execution_count": null,
   "metadata": {},
   "outputs": [],
   "source": [
    "# Installing a geostatistical software package\n",
    "!pip install geostatspy # We will use this package at some point during our class\n",
    "!pip install cartopy # cartopy is a mapping package\n"
   ]
  },
  {
   "cell_type": "markdown",
   "metadata": {},
   "source": [
    "### Playing games in Python\n",
    "__[Free Python Games](http://www.grantjenks.com/docs/freegames/#pacman)__ is a website hosting Python code for several free games. In the code cell below, try installing the python package (name is \"freegames\") using pip, import it, and figure out how to open and play a game. "
   ]
  },
  {
   "cell_type": "code",
   "execution_count": null,
   "metadata": {},
   "outputs": [],
   "source": [
    "# your code here"
   ]
  },
  {
   "cell_type": "markdown",
   "metadata": {},
   "source": [
    "## Flow control and functions\n",
    "Python functions and flow control go together. For example, you can write a function that executes on a single number, then apply it to a list"
   ]
  },
  {
   "cell_type": "code",
   "execution_count": 1,
   "metadata": {},
   "outputs": [],
   "source": [
    "def simpleFun(x):\n",
    "    # Define a simple function\n",
    "    return 5*x + 3"
   ]
  },
  {
   "cell_type": "code",
   "execution_count": 5,
   "metadata": {},
   "outputs": [
    {
     "name": "stdout",
     "output_type": "stream",
     "text": [
      "[3, 8, 13, 18, 23, 28, 33, 38, 43, 48, 53, 58, 63, 68, 73, 78, 83, 88, 93, 98, 103, 108, 113, 118, 123, 128, 133, 138, 143, 148, 153, 158, 163, 168, 173, 178, 183, 188, 193, 198, 203, 208, 213, 218, 223, 228, 233, 238, 243, 248, 253, 258, 263, 268, 273, 278, 283, 288, 293, 298, 303, 308, 313, 318, 323, 328, 333, 338, 343, 348, 353, 358, 363, 368, 373, 378, 383, 388, 393, 398, 403, 408, 413, 418, 423, 428, 433, 438, 443, 448, 453, 458, 463, 468, 473, 478, 483, 488, 493, 498]\n"
     ]
    }
   ],
   "source": [
    "# in order to save our output, we write it to another list!\n",
    "number_list = np.arange(100)\n",
    "output_list = []\n",
    "for n in number_list:\n",
    "    output_list.append(simpleFun(n))\n",
    "print(output_list)"
   ]
  },
  {
   "cell_type": "markdown",
   "metadata": {},
   "source": [
    "Usually, though, we'll want to plot data, rather than print a list of numbers. "
   ]
  },
  {
   "cell_type": "code",
   "execution_count": 7,
   "metadata": {},
   "outputs": [
    {
     "data": {
      "text/plain": [
       "[<matplotlib.lines.Line2D at 0x7feddbdf1cd0>]"
      ]
     },
     "execution_count": 7,
     "metadata": {},
     "output_type": "execute_result"
    },
    {
     "data": {
      "image/png": "[encoded data removed]",
      "text/plain": [
       "<Figure size 432x288 with 1 Axes>"
      ]
     },
     "metadata": {
      "needs_background": "light"
     },
     "output_type": "display_data"
    }
   ],
   "source": [
    "# number_list and output_list correspond to the x- and y-variables, respectively\n",
    "# This is because output_list is the \"dependent variable,\" i.e. the values in number_list get mapped to those in output_list\n",
    "plt.plot(number_list, output_list, '-o')"
   ]
  },
  {
   "cell_type": "markdown",
   "metadata": {},
   "source": [
    "Another common scenario is to have different functions for different branches of a conditional statement"
   ]
  },
  {
   "cell_type": "code",
   "execution_count": 8,
   "metadata": {},
   "outputs": [
    {
     "data": {
      "text/plain": [
       "[<matplotlib.lines.Line2D at 0x7feddbe61290>]"
      ]
     },
     "execution_count": 8,
     "metadata": {},
     "output_type": "execute_result"
    },
    {
     "data": {
      "image/png": "[encoded data removed]",
      "text/plain": [
       "<Figure size 432x288 with 1 Axes>"
      ]
     },
     "metadata": {
      "needs_background": "light"
     },
     "output_type": "display_data"
    }
   ],
   "source": [
    "number_list = np.arange(100) - 50\n",
    "output_list = []\n",
    "for n in number_list:\n",
    "    if n < 0:\n",
    "        output_list.append(simpleFun(-n))\n",
    "    elif n > 0:\n",
    "        output_list.append(simpleFun(n))\n",
    "    else:\n",
    "        output_list.append(0) # this is not really needed in this simple case, but it is good to consider special situations\n",
    "\n",
    "plt.plot(number_list, output_list, '-o')"
   ]
  },
  {
   "cell_type": "markdown",
   "metadata": {},
   "source": [
    "### Practice\n",
    "In the following code cells, try writing a function that compute the mean of a set of numbers. Then, write code to: \n",
    "- generate a set of numbers\n",
    "- loop through each number and subtract the mean\n",
    "- Take the square of each residual (number - mean)\n",
    "- appends the residual square to a list\n",
    "- Finally, takes the mean of the list at the very end\n",
    "\n",
    "This code logic produces the variance of the numbers"
   ]
  },
  {
   "cell_type": "code",
   "execution_count": 9,
   "metadata": {},
   "outputs": [],
   "source": [
    "# your function here (for the mean)"
   ]
  },
  {
   "cell_type": "code",
   "execution_count": 12,
   "metadata": {},
   "outputs": [
    {
     "name": "stdout",
     "output_type": "stream",
     "text": [
      "(100,)\n"
     ]
    }
   ],
   "source": [
    "# Use these x-values\n",
    "x = np.random.randn(100)\n",
    "print(x.shape) # get the shape of the numpy-array x"
   ]
  },
  {
   "cell_type": "code",
   "execution_count": null,
   "metadata": {},
   "outputs": [],
   "source": [
    "# Your for-loop here. Don't forget to pre-assign an empty list to a variable for appending!"
   ]
  }
 ],
 "metadata": {
  "kernelspec": {
   "display_name": "Python 3",
   "language": "python",
   "name": "python3"
  },
  "language_info": {
   "codemirror_mode": {
    "name": "ipython",
    "version": 3
   },
   "file_extension": ".py",
   "mimetype": "text/x-python",
   "name": "python",
   "nbconvert_exporter": "python",
   "pygments_lexer": "ipython3",
   "version": "3.7.9"
  }
 },
 "nbformat": 4,
 "nbformat_minor": 4
}
