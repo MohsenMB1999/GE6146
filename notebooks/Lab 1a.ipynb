{
 "cells": [
  {
   "cell_type": "markdown",
   "metadata": {},
   "source": [
    "# Lab 1a - Global Navigational Satellite Systems (GNSS)\n",
    "\n",
    "In this lab we will learn about GNSS, one of the most important geodetic instruments to ever be invented. GNSS data is publicly available from __[UNAVCO](https://www.unavco.org/)__, a non-profit university-governed consortium that facilitates geoscience research and education using geodesy, and from the University of Nevada-Reno's __[MAGNET](http://geodesy.unr.edu/NGLStationPages/gpsnetmap/GPSNetMap_MAG.html)__ database. In this homework, you will download, plot, and analyze GNSS time-series from several stations. "
   ]
  },
  {
   "cell_type": "markdown",
   "metadata": {},
   "source": [
    "## Raw GNSS data\n",
    "In this lab we will not work with the raw GNSS data; this is because GNSS data for tectonic purposes is usually processed as a *network*, meaning a group of stations are processed all at once to obtain position information. This is different than what your phone or a typical GNSS receiver does, which is to estimate your position based on a single receiver. Network processing allows for much more precise positioning, because it allows the processing algorithm to solve for certain noise sources that are common to all stations and subtract it out. The image below shows an example of a Rinex file for a GNSS station in Haiti. \n",
    "![Rinex_file_example.png](attachment:Rinex_file_example.png)\n",
    "\n",
    "The image below shows a snapshot of the UNAVCO Data Archive Interface (DAI), where raw GNSS data can be obtained for any of the station holdings in UNAVCO's archive.\n",
    "![UNVACO_DAI.png](attachment:UNVACO_DAI.png)"
   ]
  },
  {
   "cell_type": "markdown",
   "metadata": {},
   "source": [
    "## GNSS time-series\n",
    "GNSS station time-series are "
   ]
  }
 ],
 "metadata": {
  "kernelspec": {
   "display_name": "Python 3",
   "language": "python",
   "name": "python3"
  },
  "language_info": {
   "codemirror_mode": {
    "name": "ipython",
    "version": 3
   },
   "file_extension": ".py",
   "mimetype": "text/x-python",
   "name": "python",
   "nbconvert_exporter": "python",
   "pygments_lexer": "ipython3",
   "version": "3.8.2"
  }
 },
 "nbformat": 4,
 "nbformat_minor": 4
}
