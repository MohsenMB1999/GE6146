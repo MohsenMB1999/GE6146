{
 "cells": [
  {
   "cell_type": "markdown",
   "metadata": {},
   "source": [
    "# Introduction to Python and Jupyter Notebooks\n",
    "\n",
    "In this lab excercise you will gain some experience programming in Python using the Jupyter notebooks environment. Jupyter notebooks are an easy way to start programming right from your browser. I will introduce you to some of the basics of Python that will be enough to get you through the labs. To learn more, check out the various __[Python courses and tutorials](https://www.google.com/search?q=python+courses+or+tutorials&rlz=1C5CHFA_enUS890US890&oq=python+courses+or+tutorials&aqs=chrome..69i57j0l5.4657j0j7&sourceid=chrome&ie=UTF-8)__ online. For getting started with Jupyter Notebooks, this __[Dataquest website](https://www.dataquest.io/blog/jupyter-notebook-tutorial/)__ is a helpful place to learn more. \n",
    "\n",
    "## Programming and research\n",
    "Learning how to do some basic programming is probably the single most useful professional skill you can give yourself. I highly recommend you take some time to learn the basics if you have not. Programming is very mathematical, but not the type of math used in high school algebra. Instead, think of programming as a more powerful extension to using Microsoft Excel. You can look at data, turn it into graphs, analyze trends, etc., and do it more custom ways with programming than in Excel. You can also use programming for a whole host of other functions, such as mathematical modeling, which we will do in these labs. In order to be able to understand data and apply it to problems, we must be able to characterize some aspects of it using a relatively simple mathematical basis. This is termed \"modeling\" and is the basis for how geodetic data has become such a powerful tool in the earth sciences, as well industry and government. You will gain some experience in this class using simple models that will provide a small taste of what can be accomplished using the combination of math, computer programming, and data. \n",
    "\n",
    "## Why Python? \n",
    "\n",
    "\n",
    "## What should I do first? \n",
    "I have set up the labs to be used with __[Google Colab](https://colab.research.google.com/notebooks/intro.ipynb)__ and __[Github](github.com)__. \n"
   ]
  },
  {
   "attachments": {},
   "cell_type": "markdown",
   "metadata": {},
   "source": [
    "First click the link to open the __[Google Colab link to Github](https://colab.research.google.com/github/)__ in a new browser winder: \n",
    "![GoogleColabGithub.png](attachment:../images/GoogleColabGithub.png)"
   ]
  },
  {
   "attachments": {},
   "cell_type": "markdown",
   "metadata": {},
   "source": [
    "Click on the \"Github\" tab on the top of the pop-up box and enter in this URL: https://github.com/jlmaurer/GE6146. From the dropdown-menu that appears on the left select the repository and then click on the appropriate Jupyter notebook for the lab you are doing. It will open in the Google Colab environment. \n",
    "![GoogleColabOpenScreen.png](attachment:../images/GoogleColabOpenScreen.png)"
   ]
  },
  {
   "cell_type": "markdown",
   "metadata": {},
   "source": [
    "Click the name of the notebook you want to open."
   ]
  }
 ],
 "metadata": {
  "kernelspec": {
   "display_name": "Python 3",
   "language": "python",
   "name": "python3"
  },
  "language_info": {
   "codemirror_mode": {
    "name": "ipython",
    "version": 3
   },
   "file_extension": ".py",
   "mimetype": "text/x-python",
   "name": "python",
   "nbconvert_exporter": "python",
   "pygments_lexer": "ipython3",
   "version": "3.8.2"
  }
 },
 "nbformat": 4,
 "nbformat_minor": 4
}
