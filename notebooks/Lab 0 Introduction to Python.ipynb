{
 "cells": [
  {
   "cell_type": "markdown",
   "metadata": {},
   "source": [
    "# Introduction to Python\n",
    "\n",
    "In this lab excercise you will gain some experience programming in Python using Google CoLab. We will start by walking through some of the basics of programming in general and Python in particular. To learn more, check out the various __[Python courses and tutorials](https://www.google.com/search?q=python+courses+or+tutorials&rlz=1C5CHFA_enUS890US890&oq=python+courses+or+tutorials&aqs=chrome..69i57j0l5.4657j0j7&sourceid=chrome&ie=UTF-8)__ online. \n"
   ]
  },
  {
   "cell_type": "markdown",
   "metadata": {},
   "source": [
    "In this lab we will learn the basics of Python for mathematical calculations, modeling, and data analysis. We will cover the following in this notebook: \n",
    " - basic operations\n",
    " - data types\n",
    " - variables\n",
    " - functions\n",
    " - importing and using external libraries\n",
    " - Accessing and analyzing data\n",
    " - plotting"
   ]
  },
  {
   "cell_type": "markdown",
   "metadata": {},
   "source": [
    "# Basic operations\n",
    "First, to \"run a program,\" click once **here** then click the \"+\" sign above to enter in a new code block below this cell. Cells in Jupyter can be for code, Markdown, or Headings, among other things. See the dropdown-menu at the top of the page to see what kind of cell you are in currently. You can \"run\" a cell by clicking the \"play icon at the left of each block. Blocks of code are run indepedently of other blocks, but they may depend on the output of a prior block. "
   ]
  }
 ],
 "metadata": {
  "kernelspec": {
   "display_name": "Python 3",
   "language": "python",
   "name": "python3"
  },
  "language_info": {
   "codemirror_mode": {
    "name": "ipython",
    "version": 3
   },
   "file_extension": ".py",
   "mimetype": "text/x-python",
   "name": "python",
   "nbconvert_exporter": "python",
   "pygments_lexer": "ipython3",
   "version": "3.8.2"
  }
 },
 "nbformat": 4,
 "nbformat_minor": 4
}
