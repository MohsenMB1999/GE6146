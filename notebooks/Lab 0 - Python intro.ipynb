{
 "cells": [
  {
   "cell_type": "markdown",
   "id": "vital-factory",
   "metadata": {},
   "source": [
    "# Lab 0: Using Python in Google Colab"
   ]
  },
  {
   "cell_type": "markdown",
   "id": "adjacent-notebook",
   "metadata": {},
   "source": [
    "In this lab is a chance for you to practice using Python in Google Colab. Several of the other labs will require you to use Python to download, process, or visualize data, so we will get some practice with that here. In addition, you may need to write or use some basic functions to help you with the processing, so this lab will help you practice that as well. "
   ]
  },
  {
   "cell_type": "markdown",
   "id": "documented-detroit",
   "metadata": {},
   "source": [
    "## Problem 1: Write a basic function in Python"
   ]
  },
  {
   "cell_type": "markdown",
   "id": "forty-paintball",
   "metadata": {},
   "source": [
    "Write a function in Python to compute the two roots of a quadratic equation: $$(-b \\pm \\sqrt{b^2 - 4ac}) / 2a$$ You can use the the \"sqrt\" function from the \"math\" module to compute the square root. Return the positive root first. The \"math\" module will raise a ValueError if the argument to the sqrt function is negative, so you will need to catch this error if it occurs and print out a suitable message. "
   ]
  },
  {
   "cell_type": "markdown",
   "id": "sound-soccer",
   "metadata": {},
   "source": [
    "Fill in the following code cell to write your function. In the sections below and in the labs to come, there will be areas marked for you to fill in to complete partially-started code. These sections will be denoted using three hash symbols: '###' to mark the beginning and end of where you need to add or change the code. "
   ]
  },
  {
   "cell_type": "code",
   "execution_count": null,
   "id": "departmental-choir",
   "metadata": {},
   "outputs": [],
   "source": [
    "# To make this function work, assume that a, b, and c already exist *outside* the function. \n",
    "# You simply need to type out the math shown above for each root \n",
    "import math\n",
    "def solve_quadratic(a, b, c):\n",
    "    # Your code below - note that it might be easiest to break the solution up \n",
    "    # into several lines!\n",
    "    ### <-- This marks the beginning of where you need to change\n",
    "    root1 = None \n",
    "    root2 = None\n",
    "    ### <-- This marks the end of where you need to change\n",
    "    return root1, root2\n",
    "# Click the \"run\" button or hit Shift + Enter to run the cell"
   ]
  },
  {
   "cell_type": "markdown",
   "id": "artificial-davis",
   "metadata": {},
   "source": [
    "### Tests\n",
    "The following cells are tests. **Do not change them!** Run each of these as you work on your function. These tests show what would be the correct answer for a properly-defined function so you can compare to what your function gives you. If a cell gives a wrong answer or an error message, go back and work on your function until each test passes. "
   ]
  },
  {
   "cell_type": "code",
   "execution_count": 3,
   "id": "documentary-percentage",
   "metadata": {},
   "outputs": [
    {
     "name": "stdout",
     "output_type": "stream",
     "text": [
      "(None, None)\n"
     ]
    }
   ],
   "source": [
    "# Test 1\n",
    "print(solve_quadratic(1, 1, 1)) # This should print your error message"
   ]
  },
  {
   "cell_type": "code",
   "execution_count": 5,
   "id": "searching-investment",
   "metadata": {},
   "outputs": [
    {
     "name": "stdout",
     "output_type": "stream",
     "text": [
      "(None, None)\n"
     ]
    }
   ],
   "source": [
    "# Test 2\n",
    "print(solve_quadratic(1, 1, -1)) # This should print (0.6180, -1.618)"
   ]
  },
  {
   "cell_type": "code",
   "execution_count": 6,
   "id": "related-democracy",
   "metadata": {},
   "outputs": [
    {
     "name": "stdout",
     "output_type": "stream",
     "text": [
      "(None, None)\n"
     ]
    }
   ],
   "source": [
    "# Test 3\n",
    "print(solve_quadratic(1, -2, 1)) # This should print (1.0, 1.0)"
   ]
  },
  {
   "cell_type": "markdown",
   "id": "rapid-humanity",
   "metadata": {},
   "source": [
    "## Problem 2: Load a dataset and plot something"
   ]
  },
  {
   "cell_type": "markdown",
   "id": "parallel-superior",
   "metadata": {},
   "source": [
    "The USGS monitors earthquakes in the US and throughout the world. Download the \"USGS_seismicity.csv\" file from the Canvas webpage and upload it here using the cell below. Once you have uploaded the file, proceed to the analysis part of the problem."
   ]
  },
  {
   "cell_type": "code",
   "execution_count": null,
   "id": "particular-circular",
   "metadata": {},
   "outputs": [],
   "source": [
    "'''\n",
    "If you are running this notebook on your local machine, you'll need to use the native\n",
    "upload capabilities of your system. On Colab this should work.\n",
    "\n",
    "Choose the \"USGS_seismicity.csv\" file from your local filesystem and upload it.\n",
    "'''\n",
    "from google.colab import files\n",
    "uploaded = files.upload()\n",
    "for fn in uploaded.keys():\n",
    "  print('User uploaded file \"{name}\" with length {length} bytes'.format(\n",
    "      name=fn, length=len(uploaded[fn])))"
   ]
  },
  {
   "cell_type": "markdown",
   "id": "numerical-picking",
   "metadata": {},
   "source": [
    "This dataset is similar to some other datasets that we'll use in this course. To prepare you for those, we will practice some data visualization and analysis here. "
   ]
  },
  {
   "cell_type": "markdown",
   "id": "informal-chest",
   "metadata": {},
   "source": [
    "Your first job is to load the dataset using Pandas and take a look at it."
   ]
  },
  {
   "cell_type": "code",
   "execution_count": 8,
   "id": "christian-stage",
   "metadata": {},
   "outputs": [],
   "source": [
    "import pandas  # pandas is the equivalent of a spreadsheet program in Python"
   ]
  },
  {
   "cell_type": "code",
   "execution_count": null,
   "id": "endangered-relative",
   "metadata": {},
   "outputs": [],
   "source": [
    "# Here, write code to load the .csv file you uploaded above into the dataframe\n",
    "###\n",
    "# df = pd.read_csv(filename)\n",
    "df.head() # try changing the number of rows that is displayed. Simply pass a number as an argument to \"head\": df.head(20)\n",
    "###"
   ]
  },
  {
   "cell_type": "markdown",
   "id": "sharing-mustang",
   "metadata": {},
   "source": [
    "Next, you should do some exploratory data analysis and visualization. Use the Python library __[matplotlib](https://matplotlib.org/stable/index.html)__ for this. Try to find out where the earthquakes are located that are in the dataset, and what time period is covered. If you need help with a function, you can type \"?\\<function name\\>\" in a code cell to get help, or you can do a google search to see how to call that function. "
   ]
  },
  {
   "cell_type": "code",
   "execution_count": 12,
   "id": "induced-jefferson",
   "metadata": {},
   "outputs": [],
   "source": [
    "import matplotlib.pyplot as plt"
   ]
  },
  {
   "cell_type": "code",
   "execution_count": 11,
   "id": "outside-danish",
   "metadata": {},
   "outputs": [],
   "source": [
    "# Create a scatter plot with longitude and latitude\n",
    "###\n",
    "# plt.scatter()\n",
    "###"
   ]
  },
  {
   "cell_type": "markdown",
   "id": "involved-madonna",
   "metadata": {},
   "source": [
    "Earthquakes are distributed such that there are usually around 10x fewer earthquakes at each larger magnitude. I.e. there are 10x as many Mw 4's as 5's, etc. See if your earthquake catalog matches this!"
   ]
  },
  {
   "cell_type": "code",
   "execution_count": 14,
   "id": "collectible-singles",
   "metadata": {},
   "outputs": [],
   "source": [
    "# Create a histogram of earthquake magnitudes\n",
    "###\n",
    "# plt.hist()\n",
    "###"
   ]
  },
  {
   "cell_type": "markdown",
   "id": "alpha-method",
   "metadata": {},
   "source": [
    "Earthquake magnitudes in tectonically-active areas such as California tend to occur in distinct patterns - a somewhat random pattern of large events followed by clustered smaller events. Exam whether this trend is present in the dataset by plotting earthquake magnitudes through time. "
   ]
  },
  {
   "cell_type": "code",
   "execution_count": null,
   "id": "defined-constitutional",
   "metadata": {},
   "outputs": [],
   "source": [
    "# Create a time-series plot of earthquake magnitude through time using a \"stem\" plot\n",
    "###\n",
    "# plt.stem()\n",
    "### "
   ]
  },
  {
   "cell_type": "markdown",
   "id": "second-invention",
   "metadata": {},
   "source": [
    "Often it is helpful to look at a basic summary of your data using statistics. Compute and display the mean and quantiles of earthquake magnitude and the bounds on lat/lon coordinates and time, for the dataset. Calculate any other quantities you think may be of interest. "
   ]
  },
  {
   "cell_type": "code",
   "execution_count": null,
   "id": "developing-ecuador",
   "metadata": {},
   "outputs": [],
   "source": [
    "# Basic statistics for the earthquake catalog\n",
    "### \n",
    "# your code here\n",
    "###"
   ]
  },
  {
   "cell_type": "markdown",
   "id": "competitive-keeping",
   "metadata": {},
   "source": [
    "Finally, look at total moment through time. To do this, you'll need to write a function that converts magnitude (Mw) to moment (Mo). The equation for this is $$ Mo = 10^{1.5(Mw + 6.03)}$$ Once you've calculuated moment for every earthquake, calculate and display the total moment for all earthquakes. Plot both instantaneous and cumulative earthquake moment through time. Finally, calculate the total moment of just the largest 5 earthquakes and calculate and print what percentage of the total moment those five largest events capture. "
   ]
  },
  {
   "cell_type": "code",
   "execution_count": 15,
   "id": "traditional-browse",
   "metadata": {},
   "outputs": [],
   "source": [
    "# Calculate total moment\n",
    "### \n",
    "# your code here\n",
    "###"
   ]
  },
  {
   "cell_type": "code",
   "execution_count": 16,
   "id": "broke-cargo",
   "metadata": {},
   "outputs": [],
   "source": [
    "# Plot moment through time, both instantaneous and cumulative\n",
    "###\n",
    "# plt.plot()\n",
    "# plt.step(t, np.cumsum())\n",
    "###"
   ]
  },
  {
   "cell_type": "code",
   "execution_count": 18,
   "id": "peripheral-violence",
   "metadata": {},
   "outputs": [
    {
     "name": "stdout",
     "output_type": "stream",
     "text": [
      "None\n"
     ]
    }
   ],
   "source": [
    "# Calculate the percentage of moment released by the 5 largest events\n",
    "num_largest = 5\n",
    "###\n",
    "# your code here\n",
    "percent_largest = None\n",
    "###\n",
    "print(percent_largest)"
   ]
  },
  {
   "cell_type": "code",
   "execution_count": null,
   "id": "extraordinary-shuttle",
   "metadata": {},
   "outputs": [],
   "source": []
  }
 ],
 "metadata": {
  "kernelspec": {
   "display_name": "Python 3",
   "language": "python",
   "name": "python3"
  },
  "language_info": {
   "codemirror_mode": {
    "name": "ipython",
    "version": 3
   },
   "file_extension": ".py",
   "mimetype": "text/x-python",
   "name": "python",
   "nbconvert_exporter": "python",
   "pygments_lexer": "ipython3",
   "version": "3.7.8"
  }
 },
 "nbformat": 4,
 "nbformat_minor": 5
}
