{
 "cells": [
  {
   "cell_type": "markdown",
   "id": "average-boundary",
   "metadata": {},
   "source": [
    "# Lab 0: Using Python in Google Colab"
   ]
  },
  {
   "cell_type": "markdown",
   "id": "purple-outdoors",
   "metadata": {},
   "source": [
    "In this lab is a chance for you to practice using Python in Google Colab. Several of the other labs will require you to use Python to download, process, or visualize data, so we will get some practice with that here. In addition, you may need to write or use some basic functions to help you with the processing, so this lab will help you practice that as well. "
   ]
  },
  {
   "cell_type": "markdown",
   "id": "legendary-perfume",
   "metadata": {},
   "source": [
    "## Problem 1: Write a basic function in Python"
   ]
  },
  {
   "cell_type": "markdown",
   "id": "heavy-portfolio",
   "metadata": {},
   "source": [
    "Write a function in Python to compute the two roots of a quadratic equation: $$(-b \\pm \\sqrt{b^2 - 4ac}) / 2a$$ You can use the the \"sqrt\" function from the \"math\" module to compute the square root. Return the positive root first. The \"math\" module will raise a ValueError if the argument to the sqrt function is negative, so you will need to catch this error if it occurs and print out a suitable message. "
   ]
  },
  {
   "cell_type": "markdown",
   "id": "finite-reality",
   "metadata": {},
   "source": [
    "Fill in the following code cell to write your function. In the sections below and in the labs to come, there will be areas marked for you to fill in to complete partially-started code. These sections will be denoted using three hash symbols: '###' to mark the beginning and end of where you need to add or change the code. "
   ]
  },
  {
   "cell_type": "code",
   "execution_count": null,
   "id": "accredited-nursing",
   "metadata": {},
   "outputs": [],
   "source": [
    "# To make this function work, assume that a, b, and c already exist *outside* the function. \n",
    "# You simply need to type out the math shown above for each root \n",
    "import math\n",
    "def solve_quadratic(a, b, c):\n",
    "    # Your code below - note that it might be easiest to break the solution up \n",
    "    # into several lines!\n",
    "    ### <-- This marks the beginning of where you need to change\n",
    "    root1 = None \n",
    "    root2 = None\n",
    "    ### <-- This marks the end of where you need to change\n",
    "    return root1, root2\n",
    "# Click the \"run\" button or hit Shift + Enter to run the cell"
   ]
  },
  {
   "cell_type": "markdown",
   "id": "alive-interim",
   "metadata": {},
   "source": [
    "### Tests\n",
    "The following cells are tests. **Do not change them!** Run each of these as you work on your function. These tests show what would be the correct answer for a properly-defined function so you can compare to what your function gives you. If a cell gives a wrong answer or an error message, go back and work on your function until each test passes. "
   ]
  },
  {
   "cell_type": "code",
   "execution_count": 3,
   "id": "least-north",
   "metadata": {},
   "outputs": [
    {
     "name": "stdout",
     "output_type": "stream",
     "text": [
      "(None, None)\n"
     ]
    }
   ],
   "source": [
    "# Test 1\n",
    "print(solve_quadratic(1, 1, 1)) # This should print your error message"
   ]
  },
  {
   "cell_type": "code",
   "execution_count": 5,
   "id": "million-morrison",
   "metadata": {},
   "outputs": [
    {
     "name": "stdout",
     "output_type": "stream",
     "text": [
      "(None, None)\n"
     ]
    }
   ],
   "source": [
    "# Test 2\n",
    "print(solve_quadratic(1, 1, -1)) # This should print (0.6180, -1.618)"
   ]
  },
  {
   "cell_type": "code",
   "execution_count": 6,
   "id": "convenient-madison",
   "metadata": {},
   "outputs": [
    {
     "name": "stdout",
     "output_type": "stream",
     "text": [
      "(None, None)\n"
     ]
    }
   ],
   "source": [
    "# Test 3\n",
    "print(solve_quadratic(1, -2, 1)) # This should print (1.0, 1.0)"
   ]
  },
  {
   "cell_type": "markdown",
   "id": "invalid-celebrity",
   "metadata": {},
   "source": [
    "## Problem 2: Load a dataset and plot something"
   ]
  },
  {
   "cell_type": "markdown",
   "id": "wrong-bridges",
   "metadata": {},
   "source": [
    "The USGS monitors earthquakes in the US and throughout the world. Download the \"USGS_seismicity.csv\" file from the Canvas webpage and upload it here using the cell below. Once you have uploaded the file, proceed to the analysis part of the problem."
   ]
  },
  {
   "cell_type": "code",
   "execution_count": null,
   "id": "macro-aircraft",
   "metadata": {},
   "outputs": [],
   "source": [
    "'''\n",
    "If you are running this notebook on your local machine, you'll need to use the native\n",
    "upload capabilities of your system. On Colab this should work.\n",
    "\n",
    "Choose the \"USGS_seismicity.csv\" file from your local filesystem and upload it.\n",
    "'''\n",
    "from google.colab import files\n",
    "uploaded = files.upload()\n",
    "for fn in uploaded.keys():\n",
    "  print('User uploaded file \"{name}\" with length {length} bytes'.format(\n",
    "      name=fn, length=len(uploaded[fn])))"
   ]
  },
  {
   "cell_type": "markdown",
   "id": "defensive-cisco",
   "metadata": {},
   "source": [
    "This dataset is similar to some other datasets that we'll use in this course. To prepare you for those, we will practice some data visualization and analysis here. "
   ]
  },
  {
   "cell_type": "markdown",
   "id": "acting-noise",
   "metadata": {},
   "source": [
    "Your first job is to load the dataset using Pandas and take a look at it."
   ]
  },
  {
   "cell_type": "code",
   "execution_count": 8,
   "id": "educated-basics",
   "metadata": {},
   "outputs": [],
   "source": [
    "import pandas  # pandas is the equivalent of a spreadsheet program in Python"
   ]
  },
  {
   "cell_type": "code",
   "execution_count": null,
   "id": "arranged-intensity",
   "metadata": {},
   "outputs": [],
   "source": [
    "# Here, write code to load the .csv file you uploaded above into the dataframe\n",
    "###\n",
    "# df = pd.read_csv(filename)\n",
    "df.head() # try changing the number of rows that is displayed. Simply pass a number as an argument to \"head\": df.head(20)\n",
    "###"
   ]
  },
  {
   "cell_type": "markdown",
   "id": "surface-closing",
   "metadata": {},
   "source": [
    "Next, you should do some exploratory data analysis and visualization. Use the Python library __[matplotlib](https://matplotlib.org/stable/index.html)__ for this. Try to find out where the earthquakes are located that are in the dataset, and what time period is covered. If you need help with a function, you can type \"?\\<function name\\>\" in a code cell to get help, or you can do a google search to see how to call that function. "
   ]
  },
  {
   "cell_type": "code",
   "execution_count": 12,
   "id": "optical-madagascar",
   "metadata": {},
   "outputs": [],
   "source": [
    "import matplotlib.pyplot as plt"
   ]
  },
  {
   "cell_type": "code",
   "execution_count": 11,
   "id": "flexible-pension",
   "metadata": {},
   "outputs": [],
   "source": [
    "# Create a scatter plot with longitude and latitude\n",
    "###\n",
    "# plt.scatter()\n",
    "###"
   ]
  },
  {
   "cell_type": "markdown",
   "id": "convinced-drawing",
   "metadata": {},
   "source": [
    "Earthquakes are distributed such that there are usually around 10x fewer earthquakes at each larger magnitude. I.e. there are 10x as many Mw 4's as 5's, etc. See if your earthquake catalog matches this!"
   ]
  },
  {
   "cell_type": "code",
   "execution_count": 14,
   "id": "harmful-backup",
   "metadata": {},
   "outputs": [],
   "source": [
    "# Create a histogram of earthquake magnitudes\n",
    "###\n",
    "# plt.hist()\n",
    "###"
   ]
  },
  {
   "cell_type": "markdown",
   "id": "aerial-album",
   "metadata": {},
   "source": [
    "Earthquake magnitudes in tectonically-active areas such as California tend to occur in distinct patterns - a somewhat random pattern of large events followed by clustered smaller events. Exam whether this trend is present in the dataset by plotting earthquake magnitudes through time. "
   ]
  },
  {
   "cell_type": "code",
   "execution_count": null,
   "id": "sophisticated-drama",
   "metadata": {},
   "outputs": [],
   "source": [
    "# Create a time-series plot of earthquake magnitude through time using a \"stem\" plot\n",
    "###\n",
    "# plt.stem()\n",
    "### "
   ]
  },
  {
   "cell_type": "markdown",
   "id": "broadband-arizona",
   "metadata": {},
   "source": [
    "Often it is helpful to look at a basic summary of your data using statistics. Compute and display the mean and quantiles of earthquake magnitude and the bounds on lat/lon coordinates and time, for the dataset. Calculate any other quantities you think may be of interest. You can import the Python library \"numpy\" for many different math functions. "
   ]
  },
  {
   "cell_type": "code",
   "execution_count": 5,
   "id": "derived-praise",
   "metadata": {},
   "outputs": [],
   "source": [
    "# Numpy is a useful library for lots of math functionality\n",
    "import numpy as np"
   ]
  },
  {
   "cell_type": "code",
   "execution_count": 2,
   "id": "disciplinary-internet",
   "metadata": {},
   "outputs": [
    {
     "name": "stdout",
     "output_type": "stream",
     "text": [
      "Mean magnitude is None\n",
      "The 10 and 90% Mw quantiles are None and None\n",
      "The 25 and 75% quantiles are None and None\n",
      "Median magnitude is None\n"
     ]
    }
   ],
   "source": [
    "# Basic statistics for the earthquake catalog\n",
    "### \n",
    "Mw_mean = None\n",
    "Mw_q10 = None\n",
    "Mw_q25 = None\n",
    "Mw_q50 = None\n",
    "Mw_q75 = None\n",
    "Mw_q90 = None\n",
    "###\n",
    "print(\"Mean magnitude is {}\".format(Mw_mean))\n",
    "print(\"The 10 and 90% Mw quantiles are {} and {}\".format(Mw_q10, Mw_q90))\n",
    "print(\"The 25 and 75% quantiles are {} and {}\".format(Mw_q25, Mw_q75))\n",
    "print(\"Median magnitude is {}\".format(Mw_q50))"
   ]
  },
  {
   "cell_type": "markdown",
   "id": "formed-penny",
   "metadata": {},
   "source": [
    "Finally, look at total moment through time. To do this, you'll need to write a function that converts magnitude (Mw) to moment (Mo). The equation for this is $$ Mo = 10^{1.5(Mw + 6.03)}$$ **Note**: moment has units of Newton-meters. Once you've calculuated moment for every earthquake, calculate and display the total moment for all earthquakes. Plot both instantaneous and cumulative earthquake moment through time. Finally, calculate the total moment of just the largest 5 earthquakes and calculate and print what percentage of the total moment those five largest events capture. "
   ]
  },
  {
   "cell_type": "code",
   "execution_count": 8,
   "id": "adverse-investigator",
   "metadata": {},
   "outputs": [],
   "source": [
    "# First, write a function that converts a single moment magnitude to moment\n",
    "def mw2mo(mw):\n",
    "    '''Convert a single moment magnitude to moment'''\n",
    "    ###\n",
    "    mo = None # you fill in the correct math here\n",
    "    ###\n",
    "    return mo"
   ]
  },
  {
   "cell_type": "code",
   "execution_count": 9,
   "id": "covered-mystery",
   "metadata": {},
   "outputs": [],
   "source": [
    "# Next write a function that loops through a set of magnitudes and calls mw2mo on each one. \n",
    "def all_mws_to_mo(mw_list):\n",
    "    '''Convert a list of moment magnitudes to moment'''\n",
    "    mo_list = []\n",
    "    ###\n",
    "    # you fill in here\n",
    "    ###\n",
    "    return mo_list"
   ]
  },
  {
   "cell_type": "markdown",
   "id": "metallic-pattern",
   "metadata": {},
   "source": [
    "### Tests\n",
    "These tests will help you make sure to get your functions correct"
   ]
  },
  {
   "cell_type": "code",
   "execution_count": null,
   "id": "starting-victim",
   "metadata": {},
   "outputs": [],
   "source": [
    "print(mw2mo(5)) # This should print 3.5075... x 10^16"
   ]
  },
  {
   "cell_type": "code",
   "execution_count": null,
   "id": "embedded-marker",
   "metadata": {},
   "outputs": [],
   "source": [
    "print(mw2mo(1)) # This should print 35075187395.2568"
   ]
  },
  {
   "cell_type": "code",
   "execution_count": null,
   "id": "faced-clothing",
   "metadata": {},
   "outputs": [],
   "source": [
    "print(all_mws_to_mo([1, 2, 3, 4, 5, 6, 7])) \n",
    "'''\n",
    "This should print a list that looks something like: \n",
    "[35075187395.2568,\n",
    " 1109174815262.4055,\n",
    " 35075187395256.938,\n",
    " 1109174815262405.4,\n",
    " 3.507518739525694e+16,\n",
    " 1.1091748152624054e+18,\n",
    " 3.507518739525694e+19]\n",
    "'''"
   ]
  },
  {
   "cell_type": "markdown",
   "id": "requested-slope",
   "metadata": {},
   "source": [
    "Notice how moment grows by more than a factor of ten with each step in magnitude!\n",
    "\n",
    "Now calculate moment for each earthquake in your database"
   ]
  },
  {
   "cell_type": "code",
   "execution_count": 15,
   "id": "laughing-spain",
   "metadata": {},
   "outputs": [],
   "source": [
    "# Calculate total moment\n",
    "### \n",
    "# df['Mo'] = \n",
    "###"
   ]
  },
  {
   "cell_type": "code",
   "execution_count": 3,
   "id": "municipal-league",
   "metadata": {},
   "outputs": [],
   "source": [
    "# Plot moment through time, both instantaneous and cumulative\n",
    "###\n",
    "# plt.plot()\n",
    "# plt.step(t, np.cumsum())\n",
    "###"
   ]
  },
  {
   "cell_type": "code",
   "execution_count": 4,
   "id": "intelligent-orientation",
   "metadata": {},
   "outputs": [
    {
     "name": "stdout",
     "output_type": "stream",
     "text": [
      "None\n"
     ]
    }
   ],
   "source": [
    "# Calculate the percentage of moment released by the 5 largest events\n",
    "num_largest = 5\n",
    "###\n",
    "# your code here\n",
    "percent_largest = None\n",
    "###\n",
    "print(percent_largest)"
   ]
  },
  {
   "cell_type": "markdown",
   "id": "conditional-shopping",
   "metadata": {},
   "source": [
    "### Turn in your results!"
   ]
  },
  {
   "cell_type": "markdown",
   "id": "approximate-collect",
   "metadata": {},
   "source": [
    "Once you've finished going through this notebook, save/export/download it as a PDF file. Upload the PDF to the Canvas webpage. "
   ]
  },
  {
   "cell_type": "code",
   "execution_count": null,
   "id": "macro-austria",
   "metadata": {},
   "outputs": [],
   "source": []
  }
 ],
 "metadata": {
  "kernelspec": {
   "display_name": "Python 3",
   "language": "python",
   "name": "python3"
  },
  "language_info": {
   "codemirror_mode": {
    "name": "ipython",
    "version": 3
   },
   "file_extension": ".py",
   "mimetype": "text/x-python",
   "name": "python",
   "nbconvert_exporter": "python",
   "pygments_lexer": "ipython3",
   "version": "3.7.8"
  }
 },
 "nbformat": 4,
 "nbformat_minor": 5
}
